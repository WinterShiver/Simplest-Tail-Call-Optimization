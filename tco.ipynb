{
 "cells": [
  {
   "cell_type": "markdown",
   "source": [
    "## Tail Call Optimization"
   ],
   "metadata": {
    "collapsed": false
   }
  },
  {
   "cell_type": "code",
   "execution_count": 13,
   "outputs": [],
   "source": [
    "class Call:\n",
    "    def __init__(self, func, *args, **kwargs):\n",
    "        self.func, self.args, self.kwargs = func, args, kwargs\n",
    "\n",
    "    def evaluate(self):\n",
    "        return self.func(*self.args, **self.kwargs)"
   ],
   "metadata": {
    "collapsed": false
   }
  },
  {
   "cell_type": "code",
   "execution_count": 14,
   "outputs": [],
   "source": [
    "class Caller:\n",
    "    def __call__(self, call):\n",
    "        while True:\n",
    "            result = call.evaluate()\n",
    "            if isinstance(result, Call):\n",
    "                call = result\n",
    "            else:\n",
    "                return result"
   ],
   "metadata": {
    "collapsed": false
   }
  },
  {
   "cell_type": "markdown",
   "source": [
    "### Usage"
   ],
   "metadata": {
    "collapsed": false
   }
  },
  {
   "cell_type": "code",
   "execution_count": 15,
   "outputs": [
    {
     "name": "stdout",
     "output_type": "stream",
     "text": [
      "5040\n"
     ]
    }
   ],
   "source": [
    "def factorial(n):\n",
    "    def _inner(n, acc):\n",
    "        return acc if n < 2 else Call(_inner, n - 1, n * acc)\n",
    "    return Call(_inner, n, 1)\n",
    "\n",
    "print(Caller()(factorial(7)))"
   ],
   "metadata": {
    "collapsed": false
   }
  },
  {
   "cell_type": "markdown",
   "source": [
    "### Stress test"
   ],
   "metadata": {
    "collapsed": false
   }
  },
  {
   "cell_type": "code",
   "execution_count": 16,
   "outputs": [
    {
     "name": "stdout",
     "output_type": "stream",
     "text": [
      "maximum recursion depth exceeded in comparison\n",
      "42\n"
     ]
    }
   ],
   "source": [
    "# stress\n",
    "\n",
    "recursion_times = 5000\n",
    "\n",
    "# without tco: maximum recursion depth would exceed\n",
    "\n",
    "def stress(n, a):\n",
    "    return stress(n - 1, a) if n > 0 else a\n",
    "\n",
    "try:\n",
    "    print(stress(recursion_times, 42))\n",
    "except RuntimeError as e:\n",
    "    print(str(e))\n",
    "\n",
    "# with tco\n",
    "\n",
    "def stress_call(n, a):\n",
    "    return Call(stress_call, n - 1, a) if n > 0 else a\n",
    "\n",
    "print(Caller()(stress_call(recursion_times, 42)))"
   ],
   "metadata": {
    "collapsed": false
   }
  }
 ],
 "metadata": {
  "kernelspec": {
   "display_name": "Python 3",
   "language": "python",
   "name": "python3"
  },
  "language_info": {
   "codemirror_mode": {
    "name": "ipython",
    "version": 2
   },
   "file_extension": ".py",
   "mimetype": "text/x-python",
   "name": "python",
   "nbconvert_exporter": "python",
   "pygments_lexer": "ipython2",
   "version": "2.7.6"
  }
 },
 "nbformat": 4,
 "nbformat_minor": 0
}
